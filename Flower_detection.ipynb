{
  "nbformat": 4,
  "nbformat_minor": 0,
  "metadata": {
    "colab": {
      "name": "Flower detection.ipynb",
      "provenance": [],
      "authorship_tag": "ABX9TyOV1AQRWNnTonQyYGqm7vGQ",
      "include_colab_link": true
    },
    "kernelspec": {
      "name": "python3",
      "display_name": "Python 3"
    },
    "accelerator": "GPU"
  },
  "cells": [
    {
      "cell_type": "markdown",
      "metadata": {
        "id": "view-in-github",
        "colab_type": "text"
      },
      "source": [
        "<a href=\"https://colab.research.google.com/github/nestorsgarzonc/deep_learning_with_flutter/blob/master/Flower_detection.ipynb\" target=\"_parent\"><img src=\"https://colab.research.google.com/assets/colab-badge.svg\" alt=\"Open In Colab\"/></a>"
      ]
    },
    {
      "cell_type": "code",
      "metadata": {
        "id": "PTci84YYHalv"
      },
      "source": [
        "import tensorflow as tf\n",
        "import os"
      ],
      "execution_count": 1,
      "outputs": []
    },
    {
      "cell_type": "code",
      "metadata": {
        "id": "ZmpRw3EwISTs"
      },
      "source": [
        "URL='https://storage.googleapis.com/download.tensorflow.org/example_images/flower_photos.tgz'"
      ],
      "execution_count": 2,
      "outputs": []
    },
    {
      "cell_type": "code",
      "metadata": {
        "colab": {
          "base_uri": "https://localhost:8080/"
        },
        "id": "_UFwF-92Ifhz",
        "outputId": "60398e7f-29b0-4a97-d86c-1886c950684a"
      },
      "source": [
        "zip_file=tf.keras.utils.get_file(origin=URL, fname='flower_photos.tgz', extract=True, cache_subdir='/content')\n",
        "base_dir=os.path.join(os.path.dirname(zip_file), 'flower_photos')"
      ],
      "execution_count": 3,
      "outputs": [
        {
          "output_type": "stream",
          "text": [
            "Downloading data from https://storage.googleapis.com/download.tensorflow.org/example_images/flower_photos.tgz\n",
            "228818944/228813984 [==============================] - 1s 0us/step\n"
          ],
          "name": "stdout"
        }
      ]
    },
    {
      "cell_type": "code",
      "metadata": {
        "id": "OsKby6XpI6uC"
      },
      "source": [
        "IMAGE_SIZE=224\n",
        "BATCH_SIZE=64\n",
        "\n",
        "datagen=tf.keras.preprocessing.image.ImageDataGenerator(\n",
        "    rescale=1.0/255,\n",
        "    validation_split=0.2,\n",
        ")"
      ],
      "execution_count": 4,
      "outputs": []
    },
    {
      "cell_type": "code",
      "metadata": {
        "colab": {
          "base_uri": "https://localhost:8080/"
        },
        "id": "lXfE9j0XN3iZ",
        "outputId": "ef7d8500-6573-40cf-db0a-b6dee410ff43"
      },
      "source": [
        "train_generator=datagen.flow_from_directory(\n",
        "    base_dir, \n",
        "    target_size=(IMAGE_SIZE, IMAGE_SIZE),\n",
        "    batch_size=BATCH_SIZE,\n",
        "    subset='training'\n",
        "    )\n",
        "\n",
        "validation_generator=datagen.flow_from_directory(\n",
        "    base_dir, \n",
        "    target_size=(IMAGE_SIZE, IMAGE_SIZE),\n",
        "    batch_size=BATCH_SIZE,\n",
        "    subset='validation'\n",
        "    )"
      ],
      "execution_count": 5,
      "outputs": [
        {
          "output_type": "stream",
          "text": [
            "Found 2939 images belonging to 5 classes.\n",
            "Found 731 images belonging to 5 classes.\n"
          ],
          "name": "stdout"
        }
      ]
    },
    {
      "cell_type": "code",
      "metadata": {
        "colab": {
          "base_uri": "https://localhost:8080/"
        },
        "id": "jTNRXW5DPpD-",
        "outputId": "7f0ce543-fd85-4465-eafa-9f6951103864"
      },
      "source": [
        "print(train_generator.class_indices)"
      ],
      "execution_count": 6,
      "outputs": [
        {
          "output_type": "stream",
          "text": [
            "{'daisy': 0, 'dandelion': 1, 'roses': 2, 'sunflowers': 3, 'tulips': 4}\n"
          ],
          "name": "stdout"
        }
      ]
    },
    {
      "cell_type": "code",
      "metadata": {
        "id": "7HJlEf2PPEel"
      },
      "source": [
        " labels='\\n'.join(sorted(train_generator.class_indices.keys()))"
      ],
      "execution_count": 7,
      "outputs": []
    },
    {
      "cell_type": "code",
      "metadata": {
        "id": "QBNfTufWSuCR"
      },
      "source": [
        "with open('labels.txt', 'w') as f:\n",
        "  f.write(labels)"
      ],
      "execution_count": 8,
      "outputs": []
    },
    {
      "cell_type": "code",
      "metadata": {
        "id": "fn8LxcQXTNvi",
        "colab": {
          "base_uri": "https://localhost:8080/"
        },
        "outputId": "14b9b328-66cc-42ec-82e2-42df8af6efd4"
      },
      "source": [
        "IMG_SHAPE=(IMAGE_SIZE, IMAGE_SIZE, 3)\n",
        "\n",
        "base_model=tf.keras.applications.MobileNetV2(\n",
        "    input_shape=IMG_SHAPE,\n",
        "    include_top=False,\n",
        "    weights='imagenet'\n",
        "    )"
      ],
      "execution_count": 9,
      "outputs": [
        {
          "output_type": "stream",
          "text": [
            "Downloading data from https://storage.googleapis.com/tensorflow/keras-applications/mobilenet_v2/mobilenet_v2_weights_tf_dim_ordering_tf_kernels_1.0_224_no_top.h5\n",
            "9412608/9406464 [==============================] - 0s 0us/step\n"
          ],
          "name": "stdout"
        }
      ]
    },
    {
      "cell_type": "code",
      "metadata": {
        "id": "Bpd1XzRtKd4H"
      },
      "source": [
        "base_model.trainable=False"
      ],
      "execution_count": 10,
      "outputs": []
    },
    {
      "cell_type": "code",
      "metadata": {
        "id": "Kd2BeU_wKntt"
      },
      "source": [
        "model=tf.keras.Sequential(\n",
        "    [\n",
        "     base_model,\n",
        "     tf.keras.layers.Conv2D(32, 3, activation='relu'),\n",
        "     tf.keras.layers.Dropout(0.2),\n",
        "     tf.keras.layers.GlobalAveragePooling2D(),\n",
        "     tf.keras.layers.Dense(5, activation='softmax'),\n",
        "    ]\n",
        ")"
      ],
      "execution_count": 11,
      "outputs": []
    },
    {
      "cell_type": "code",
      "metadata": {
        "id": "MEM7UhfxLWDr"
      },
      "source": [
        "model.compile(\n",
        "    optimizer='adam',\n",
        "    loss='categorical_crossentropy',\n",
        "    metrics=['accuracy']\n",
        "    )"
      ],
      "execution_count": 12,
      "outputs": []
    },
    {
      "cell_type": "code",
      "metadata": {
        "colab": {
          "base_uri": "https://localhost:8080/"
        },
        "id": "jRstWXuMLtdi",
        "outputId": "2f792f3c-eb91-4434-cafc-674039893e43"
      },
      "source": [
        "epochs=10\n",
        "history=model.fit(train_generator,\n",
        "                  epochs=epochs,\n",
        "                  validation_data=validation_generator)"
      ],
      "execution_count": 13,
      "outputs": [
        {
          "output_type": "stream",
          "text": [
            "Epoch 1/10\n",
            "46/46 [==============================] - 49s 322ms/step - loss: 1.7023 - accuracy: 0.5302 - val_loss: 0.5028 - val_accuracy: 0.8235\n",
            "Epoch 2/10\n",
            "46/46 [==============================] - 13s 277ms/step - loss: 0.3864 - accuracy: 0.8723 - val_loss: 0.4273 - val_accuracy: 0.8495\n",
            "Epoch 3/10\n",
            "46/46 [==============================] - 13s 276ms/step - loss: 0.2423 - accuracy: 0.9148 - val_loss: 0.4741 - val_accuracy: 0.8591\n",
            "Epoch 4/10\n",
            "46/46 [==============================] - 13s 277ms/step - loss: 0.2084 - accuracy: 0.9249 - val_loss: 0.4185 - val_accuracy: 0.8632\n",
            "Epoch 5/10\n",
            "46/46 [==============================] - 13s 276ms/step - loss: 0.0991 - accuracy: 0.9745 - val_loss: 0.4397 - val_accuracy: 0.8632\n",
            "Epoch 6/10\n",
            "46/46 [==============================] - 13s 278ms/step - loss: 0.0691 - accuracy: 0.9832 - val_loss: 0.4798 - val_accuracy: 0.8605\n",
            "Epoch 7/10\n",
            "46/46 [==============================] - 13s 281ms/step - loss: 0.0603 - accuracy: 0.9856 - val_loss: 0.5003 - val_accuracy: 0.8687\n",
            "Epoch 8/10\n",
            "46/46 [==============================] - 13s 276ms/step - loss: 0.0372 - accuracy: 0.9917 - val_loss: 0.5012 - val_accuracy: 0.8646\n",
            "Epoch 9/10\n",
            "46/46 [==============================] - 13s 273ms/step - loss: 0.0236 - accuracy: 0.9990 - val_loss: 0.5390 - val_accuracy: 0.8673\n",
            "Epoch 10/10\n",
            "46/46 [==============================] - 13s 276ms/step - loss: 0.0179 - accuracy: 0.9989 - val_loss: 0.5451 - val_accuracy: 0.8700\n"
          ],
          "name": "stdout"
        }
      ]
    },
    {
      "cell_type": "code",
      "metadata": {
        "colab": {
          "base_uri": "https://localhost:8080/"
        },
        "id": "4sRHPeFTL75E",
        "outputId": "54b9de4e-d160-4310-9c36-2cfc7ac6c93f"
      },
      "source": [
        "saved_model_dir=''\n",
        "tf.saved_model.save(model, saved_model_dir)\n",
        "\n",
        "converter=tf.lite.TFLiteConverter.from_saved_model(saved_model_dir)\n",
        "tflite_model=converter.convert()\n",
        "\n",
        "with open('model.tflite', 'wb') as f:\n",
        "  f.write(tflite_model)"
      ],
      "execution_count": 14,
      "outputs": [
        {
          "output_type": "stream",
          "text": [
            "INFO:tensorflow:Assets written to: assets\n"
          ],
          "name": "stdout"
        }
      ]
    },
    {
      "cell_type": "code",
      "metadata": {
        "id": "d0Z8LhosNHf8"
      },
      "source": [
        ""
      ],
      "execution_count": null,
      "outputs": []
    }
  ]
}